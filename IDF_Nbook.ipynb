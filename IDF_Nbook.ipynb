{
 "cells": [
  {
   "cell_type": "code",
   "execution_count": 3,
   "metadata": {},
   "outputs": [],
   "source": [
    "from pathlib import Path\n",
    "import numpy as np\n",
    "import pandas as pd\n",
    "import matplotlib.pyplot as plt\n",
    "import seaborn as sns\n",
    "from scipy.stats import genextreme\n",
    "from statsmodels.distributions.empirical_distribution import ECDF\n",
    "from scipy.optimize import curve_fit, least_squares\n",
    "import matplotlib as mpl\n",
    "from fitter import Fitter\n",
    "import scipy.stats as stats\n",
    "from idf_curves import IDFAnalysis\n",
    "\n",
    "import warnings\n",
    "# Suprimir todas las advertencias\n",
    "warnings.filterwarnings(\"ignore\")\n",
    "\n",
    "import logging\n",
    "\n",
    "# Suppress INFO messages from fitter\n",
    "logging.getLogger('fitter').setLevel(logging.WARNING)"
   ]
  },
  {
   "cell_type": "code",
   "execution_count": 4,
   "metadata": {},
   "outputs": [],
   "source": [
    "historic_hourly = pd.read_csv('Rainfall.csv', index_col=0, parse_dates=True)"
   ]
  },
  {
   "cell_type": "code",
   "execution_count": 5,
   "metadata": {},
   "outputs": [
    {
     "data": {
      "text/plain": [
       "DatetimeIndex(['1980-01-01 00:00:00', '1980-01-01 01:00:00',\n",
       "               '1980-01-01 02:00:00', '1980-01-01 03:00:00',\n",
       "               '1980-01-01 04:00:00', '1980-01-01 05:00:00',\n",
       "               '1980-01-01 06:00:00', '1980-01-01 07:00:00',\n",
       "               '1980-01-01 08:00:00', '1980-01-01 09:00:00',\n",
       "               ...\n",
       "               '2024-12-31 14:00:00', '2024-12-31 15:00:00',\n",
       "               '2024-12-31 16:00:00', '2024-12-31 17:00:00',\n",
       "               '2024-12-31 18:00:00', '2024-12-31 19:00:00',\n",
       "               '2024-12-31 20:00:00', '2024-12-31 21:00:00',\n",
       "               '2024-12-31 22:00:00', '2024-12-31 23:00:00'],\n",
       "              dtype='datetime64[ns]', name='date', length=394488, freq=None)"
      ]
     },
     "execution_count": 5,
     "metadata": {},
     "output_type": "execute_result"
    }
   ],
   "source": [
    "historic_hourly.index"
   ]
  },
  {
   "cell_type": "markdown",
   "metadata": {},
   "source": [
    "# Intensity - duration - frecuency curves"
   ]
  },
  {
   "cell_type": "code",
   "execution_count": 30,
   "metadata": {},
   "outputs": [],
   "source": [
    "# Define durations\n",
    "Durations = np.array([1, 2, 3, 4, 5, 6, 9, 12, 15, 18, 21, 24])\n",
    "# Define return periods\n",
    "Return_periods = np.array([2, 5, 10, 20, 50, 100, 500])\n",
    "# Define rainfall station\n",
    "station = historic_hourly.columns[0]"
   ]
  },
  {
   "cell_type": "code",
   "execution_count": 31,
   "metadata": {},
   "outputs": [
    {
     "name": "stderr",
     "output_type": "stream",
     "text": [
      "\u001b[32m2024-08-06 12:14:26.243\u001b[0m | \u001b[1mINFO    \u001b[0m | \u001b[36mfitter.fitter\u001b[0m:\u001b[36m_fit_single_distribution\u001b[0m:\u001b[36m337\u001b[0m - \u001b[1mFitted gumbel_r distribution with error=0.821827)\u001b[0m\n",
      "\u001b[32m2024-08-06 12:14:26.262\u001b[0m | \u001b[1mINFO    \u001b[0m | \u001b[36mfitter.fitter\u001b[0m:\u001b[36m_fit_single_distribution\u001b[0m:\u001b[36m337\u001b[0m - \u001b[1mFitted gumbel_r distribution with error=1.104185)\u001b[0m\n",
      "\u001b[32m2024-08-06 12:14:26.282\u001b[0m | \u001b[1mINFO    \u001b[0m | \u001b[36mfitter.fitter\u001b[0m:\u001b[36m_fit_single_distribution\u001b[0m:\u001b[36m337\u001b[0m - \u001b[1mFitted gumbel_r distribution with error=1.139927)\u001b[0m\n",
      "\u001b[32m2024-08-06 12:14:26.304\u001b[0m | \u001b[1mINFO    \u001b[0m | \u001b[36mfitter.fitter\u001b[0m:\u001b[36m_fit_single_distribution\u001b[0m:\u001b[36m337\u001b[0m - \u001b[1mFitted gumbel_r distribution with error=1.137616)\u001b[0m\n",
      "\u001b[32m2024-08-06 12:14:26.323\u001b[0m | \u001b[1mINFO    \u001b[0m | \u001b[36mfitter.fitter\u001b[0m:\u001b[36m_fit_single_distribution\u001b[0m:\u001b[36m337\u001b[0m - \u001b[1mFitted gumbel_r distribution with error=2.090074)\u001b[0m\n",
      "\u001b[32m2024-08-06 12:14:26.343\u001b[0m | \u001b[1mINFO    \u001b[0m | \u001b[36mfitter.fitter\u001b[0m:\u001b[36m_fit_single_distribution\u001b[0m:\u001b[36m337\u001b[0m - \u001b[1mFitted gumbel_r distribution with error=1.798289)\u001b[0m\n",
      "\u001b[32m2024-08-06 12:14:26.361\u001b[0m | \u001b[1mINFO    \u001b[0m | \u001b[36mfitter.fitter\u001b[0m:\u001b[36m_fit_single_distribution\u001b[0m:\u001b[36m337\u001b[0m - \u001b[1mFitted gumbel_r distribution with error=3.871943)\u001b[0m\n",
      "\u001b[32m2024-08-06 12:14:26.382\u001b[0m | \u001b[1mINFO    \u001b[0m | \u001b[36mfitter.fitter\u001b[0m:\u001b[36m_fit_single_distribution\u001b[0m:\u001b[36m337\u001b[0m - \u001b[1mFitted gumbel_r distribution with error=10.922556)\u001b[0m\n",
      "\u001b[32m2024-08-06 12:14:26.400\u001b[0m | \u001b[1mINFO    \u001b[0m | \u001b[36mfitter.fitter\u001b[0m:\u001b[36m_fit_single_distribution\u001b[0m:\u001b[36m337\u001b[0m - \u001b[1mFitted gumbel_r distribution with error=11.382885)\u001b[0m\n",
      "\u001b[32m2024-08-06 12:14:26.422\u001b[0m | \u001b[1mINFO    \u001b[0m | \u001b[36mfitter.fitter\u001b[0m:\u001b[36m_fit_single_distribution\u001b[0m:\u001b[36m337\u001b[0m - \u001b[1mFitted gumbel_r distribution with error=19.450072)\u001b[0m\n",
      "\u001b[32m2024-08-06 12:14:26.442\u001b[0m | \u001b[1mINFO    \u001b[0m | \u001b[36mfitter.fitter\u001b[0m:\u001b[36m_fit_single_distribution\u001b[0m:\u001b[36m337\u001b[0m - \u001b[1mFitted gumbel_r distribution with error=17.437076)\u001b[0m\n",
      "\u001b[32m2024-08-06 12:14:26.461\u001b[0m | \u001b[1mINFO    \u001b[0m | \u001b[36mfitter.fitter\u001b[0m:\u001b[36m_fit_single_distribution\u001b[0m:\u001b[36m337\u001b[0m - \u001b[1mFitted gumbel_r distribution with error=21.271009)\u001b[0m\n"
     ]
    }
   ],
   "source": [
    "\n",
    "idf_analysis = IDFAnalysis(historic_hourly, Durations, Return_periods, distribution='gumbel_r', model='scipy_stats', method='least_squares', IDF_type='IDF_typeV')"
   ]
  },
  {
   "cell_type": "code",
   "execution_count": 49,
   "metadata": {},
   "outputs": [
    {
     "data": {
      "text/html": [
       "<div>\n",
       "<style scoped>\n",
       "    .dataframe tbody tr th:only-of-type {\n",
       "        vertical-align: middle;\n",
       "    }\n",
       "\n",
       "    .dataframe tbody tr th {\n",
       "        vertical-align: top;\n",
       "    }\n",
       "\n",
       "    .dataframe thead th {\n",
       "        text-align: right;\n",
       "    }\n",
       "</style>\n",
       "<table border=\"1\" class=\"dataframe\">\n",
       "  <thead>\n",
       "    <tr style=\"text-align: right;\">\n",
       "      <th></th>\n",
       "      <th>R2</th>\n",
       "      <th>RMSE</th>\n",
       "      <th>MAE</th>\n",
       "    </tr>\n",
       "  </thead>\n",
       "  <tbody>\n",
       "    <tr>\n",
       "      <th>IDF_typeII</th>\n",
       "      <td>0.998686</td>\n",
       "      <td>0.291203</td>\n",
       "      <td>0.252221</td>\n",
       "    </tr>\n",
       "    <tr>\n",
       "      <th>IDF_typeIV</th>\n",
       "      <td>0.971415</td>\n",
       "      <td>1.358351</td>\n",
       "      <td>1.216091</td>\n",
       "    </tr>\n",
       "    <tr>\n",
       "      <th>IDF_typeV</th>\n",
       "      <td>0.95108</td>\n",
       "      <td>1.776981</td>\n",
       "      <td>1.610106</td>\n",
       "    </tr>\n",
       "    <tr>\n",
       "      <th>IDF_typeIII</th>\n",
       "      <td>0.672108</td>\n",
       "      <td>4.600518</td>\n",
       "      <td>2.048572</td>\n",
       "    </tr>\n",
       "    <tr>\n",
       "      <th>IDF_typeI</th>\n",
       "      <td>-0.625072</td>\n",
       "      <td>10.241824</td>\n",
       "      <td>9.02538</td>\n",
       "    </tr>\n",
       "  </tbody>\n",
       "</table>\n",
       "</div>"
      ],
      "text/plain": [
       "                   R2       RMSE       MAE\n",
       "IDF_typeII   0.998686   0.291203  0.252221\n",
       "IDF_typeIV   0.971415   1.358351  1.216091\n",
       "IDF_typeV     0.95108   1.776981  1.610106\n",
       "IDF_typeIII  0.672108   4.600518  2.048572\n",
       "IDF_typeI   -0.625072  10.241824   9.02538"
      ]
     },
     "execution_count": 49,
     "metadata": {},
     "output_type": "execute_result"
    }
   ],
   "source": [
    "IDF_types = ['IDF_typeI', 'IDF_typeII', 'IDF_typeIII', 'IDF_typeIV', 'IDF_typeV']\n",
    "results_goodness = pd.DataFrame(index = IDF_types, columns = ['R2', 'RMSE', 'MAE'])\n",
    "for types in IDF_types:\n",
    "    idf_analysis.calculate_goodness_of_fit(station, IDF_type=types).loc[['Global'],:]\n",
    "    results_goodness.loc[types] = idf_analysis.calculate_goodness_of_fit(station, IDF_type=types).loc[['Global'],:].values\n",
    "\n",
    "results_goodness.sort_values(by='R2', ascending=False)"
   ]
  },
  {
   "cell_type": "code",
   "execution_count": 46,
   "metadata": {},
   "outputs": [
    {
     "data": {
      "text/html": [
       "<div>\n",
       "<style scoped>\n",
       "    .dataframe tbody tr th:only-of-type {\n",
       "        vertical-align: middle;\n",
       "    }\n",
       "\n",
       "    .dataframe tbody tr th {\n",
       "        vertical-align: top;\n",
       "    }\n",
       "\n",
       "    .dataframe thead th {\n",
       "        text-align: right;\n",
       "    }\n",
       "</style>\n",
       "<table border=\"1\" class=\"dataframe\">\n",
       "  <thead>\n",
       "    <tr style=\"text-align: right;\">\n",
       "      <th></th>\n",
       "      <th>R2</th>\n",
       "      <th>RMSE</th>\n",
       "      <th>MAE</th>\n",
       "    </tr>\n",
       "    <tr>\n",
       "      <th>Return_Period</th>\n",
       "      <th></th>\n",
       "      <th></th>\n",
       "      <th></th>\n",
       "    </tr>\n",
       "  </thead>\n",
       "  <tbody>\n",
       "    <tr>\n",
       "      <th>Global</th>\n",
       "      <td>0.998686</td>\n",
       "      <td>0.291203</td>\n",
       "      <td>0.252221</td>\n",
       "    </tr>\n",
       "  </tbody>\n",
       "</table>\n",
       "</div>"
      ],
      "text/plain": [
       "                     R2      RMSE       MAE\n",
       "Return_Period                              \n",
       "Global         0.998686  0.291203  0.252221"
      ]
     },
     "execution_count": 46,
     "metadata": {},
     "output_type": "execute_result"
    }
   ],
   "source": [
    "idf_analysis.calculate_goodness_of_fit(station, IDF_type='IDF_typeII').loc[['Global'],:]"
   ]
  },
  {
   "cell_type": "code",
   "execution_count": 40,
   "metadata": {},
   "outputs": [],
   "source": [
    "# Generate CDF plot for a specific station\n",
    "cdf_fig = idf_analysis.plot_cdf_models(station)\n",
    "cdf_fig.savefig(f'cdf_plot_{station}.png', dpi=300, bbox_inches='tight')\n",
    "plt.close(cdf_fig)"
   ]
  },
  {
   "cell_type": "code",
   "execution_count": 41,
   "metadata": {},
   "outputs": [],
   "source": [
    "# Generate Q-Q plot for a specific station\n",
    "qq_fig = idf_analysis.plot_qq_models(station)\n",
    "qq_fig.savefig(f'qq_plot_{station}.png', dpi=300, bbox_inches='tight')\n",
    "plt.close(qq_fig)"
   ]
  },
  {
   "cell_type": "code",
   "execution_count": 43,
   "metadata": {},
   "outputs": [
    {
     "data": {
      "text/html": [
       "<div>\n",
       "<style scoped>\n",
       "    .dataframe tbody tr th:only-of-type {\n",
       "        vertical-align: middle;\n",
       "    }\n",
       "\n",
       "    .dataframe tbody tr th {\n",
       "        vertical-align: top;\n",
       "    }\n",
       "\n",
       "    .dataframe thead th {\n",
       "        text-align: right;\n",
       "    }\n",
       "</style>\n",
       "<table border=\"1\" class=\"dataframe\">\n",
       "  <thead>\n",
       "    <tr style=\"text-align: right;\">\n",
       "      <th></th>\n",
       "      <th>1</th>\n",
       "      <th>2</th>\n",
       "      <th>3</th>\n",
       "      <th>4</th>\n",
       "      <th>5</th>\n",
       "      <th>6</th>\n",
       "      <th>9</th>\n",
       "      <th>12</th>\n",
       "      <th>15</th>\n",
       "      <th>18</th>\n",
       "      <th>21</th>\n",
       "      <th>24</th>\n",
       "    </tr>\n",
       "    <tr>\n",
       "      <th>Tr</th>\n",
       "      <th></th>\n",
       "      <th></th>\n",
       "      <th></th>\n",
       "      <th></th>\n",
       "      <th></th>\n",
       "      <th></th>\n",
       "      <th></th>\n",
       "      <th></th>\n",
       "      <th></th>\n",
       "      <th></th>\n",
       "      <th></th>\n",
       "      <th></th>\n",
       "    </tr>\n",
       "  </thead>\n",
       "  <tbody>\n",
       "    <tr>\n",
       "      <th>2</th>\n",
       "      <td>16.764755</td>\n",
       "      <td>13.776510</td>\n",
       "      <td>11.461299</td>\n",
       "      <td>9.718390</td>\n",
       "      <td>8.442154</td>\n",
       "      <td>7.418323</td>\n",
       "      <td>5.429455</td>\n",
       "      <td>4.421822</td>\n",
       "      <td>3.750468</td>\n",
       "      <td>3.355350</td>\n",
       "      <td>3.001483</td>\n",
       "      <td>2.759821</td>\n",
       "    </tr>\n",
       "    <tr>\n",
       "      <th>5</th>\n",
       "      <td>20.718074</td>\n",
       "      <td>17.391487</td>\n",
       "      <td>14.671541</td>\n",
       "      <td>12.467590</td>\n",
       "      <td>10.961891</td>\n",
       "      <td>9.671357</td>\n",
       "      <td>7.023216</td>\n",
       "      <td>5.649698</td>\n",
       "      <td>4.717263</td>\n",
       "      <td>4.215285</td>\n",
       "      <td>3.789891</td>\n",
       "      <td>3.482229</td>\n",
       "    </tr>\n",
       "    <tr>\n",
       "      <th>10</th>\n",
       "      <td>23.335516</td>\n",
       "      <td>19.784916</td>\n",
       "      <td>16.797000</td>\n",
       "      <td>14.287799</td>\n",
       "      <td>12.630176</td>\n",
       "      <td>11.163061</td>\n",
       "      <td>8.078424</td>\n",
       "      <td>6.462659</td>\n",
       "      <td>5.357366</td>\n",
       "      <td>4.784638</td>\n",
       "      <td>4.311887</td>\n",
       "      <td>3.960527</td>\n",
       "    </tr>\n",
       "    <tr>\n",
       "      <th>20</th>\n",
       "      <td>25.846228</td>\n",
       "      <td>22.080750</td>\n",
       "      <td>18.835792</td>\n",
       "      <td>16.033788</td>\n",
       "      <td>14.230435</td>\n",
       "      <td>12.593940</td>\n",
       "      <td>9.090606</td>\n",
       "      <td>7.242470</td>\n",
       "      <td>5.971368</td>\n",
       "      <td>5.330774</td>\n",
       "      <td>4.812597</td>\n",
       "      <td>4.419322</td>\n",
       "    </tr>\n",
       "    <tr>\n",
       "      <th>50</th>\n",
       "      <td>29.096088</td>\n",
       "      <td>25.052472</td>\n",
       "      <td>21.474799</td>\n",
       "      <td>18.293791</td>\n",
       "      <td>16.301807</td>\n",
       "      <td>14.446065</td>\n",
       "      <td>10.400771</td>\n",
       "      <td>8.251856</td>\n",
       "      <td>6.766131</td>\n",
       "      <td>6.037692</td>\n",
       "      <td>5.460715</td>\n",
       "      <td>5.013184</td>\n",
       "    </tr>\n",
       "    <tr>\n",
       "      <th>100</th>\n",
       "      <td>31.531401</td>\n",
       "      <td>27.279360</td>\n",
       "      <td>23.452363</td>\n",
       "      <td>19.987345</td>\n",
       "      <td>17.854008</td>\n",
       "      <td>15.833972</td>\n",
       "      <td>11.382555</td>\n",
       "      <td>9.008249</td>\n",
       "      <td>7.361693</td>\n",
       "      <td>6.567427</td>\n",
       "      <td>5.946388</td>\n",
       "      <td>5.458200</td>\n",
       "    </tr>\n",
       "    <tr>\n",
       "      <th>500</th>\n",
       "      <td>37.159037</td>\n",
       "      <td>32.425357</td>\n",
       "      <td>28.022212</td>\n",
       "      <td>23.900891</td>\n",
       "      <td>21.440908</td>\n",
       "      <td>19.041214</td>\n",
       "      <td>13.651308</td>\n",
       "      <td>10.756157</td>\n",
       "      <td>8.737948</td>\n",
       "      <td>7.791564</td>\n",
       "      <td>7.068705</td>\n",
       "      <td>6.486565</td>\n",
       "    </tr>\n",
       "  </tbody>\n",
       "</table>\n",
       "</div>"
      ],
      "text/plain": [
       "            1          2          3          4          5          6   \\\n",
       "Tr                                                                      \n",
       "2    16.764755  13.776510  11.461299   9.718390   8.442154   7.418323   \n",
       "5    20.718074  17.391487  14.671541  12.467590  10.961891   9.671357   \n",
       "10   23.335516  19.784916  16.797000  14.287799  12.630176  11.163061   \n",
       "20   25.846228  22.080750  18.835792  16.033788  14.230435  12.593940   \n",
       "50   29.096088  25.052472  21.474799  18.293791  16.301807  14.446065   \n",
       "100  31.531401  27.279360  23.452363  19.987345  17.854008  15.833972   \n",
       "500  37.159037  32.425357  28.022212  23.900891  21.440908  19.041214   \n",
       "\n",
       "            9          12        15        18        21        24  \n",
       "Tr                                                                 \n",
       "2     5.429455   4.421822  3.750468  3.355350  3.001483  2.759821  \n",
       "5     7.023216   5.649698  4.717263  4.215285  3.789891  3.482229  \n",
       "10    8.078424   6.462659  5.357366  4.784638  4.311887  3.960527  \n",
       "20    9.090606   7.242470  5.971368  5.330774  4.812597  4.419322  \n",
       "50   10.400771   8.251856  6.766131  6.037692  5.460715  5.013184  \n",
       "100  11.382555   9.008249  7.361693  6.567427  5.946388  5.458200  \n",
       "500  13.651308  10.756157  8.737948  7.791564  7.068705  6.486565  "
      ]
     },
     "execution_count": 43,
     "metadata": {},
     "output_type": "execute_result"
    }
   ],
   "source": [
    "# Get the IDF table for a specific station\n",
    "station_idf = idf_analysis.get_idf_table(station)\n",
    "station_idf"
   ]
  },
  {
   "cell_type": "code",
   "execution_count": 42,
   "metadata": {},
   "outputs": [
    {
     "data": {
      "image/png": "[encoded data removed]",
      "text/plain": [
       "<Figure size 1000x600 with 1 Axes>"
      ]
     },
     "metadata": {},
     "output_type": "display_data"
    }
   ],
   "source": [
    "synth_IDF, idf_fig = idf_analysis.IDF_fit(station, plot=True)"
   ]
  },
  {
   "cell_type": "code",
   "execution_count": null,
   "metadata": {},
   "outputs": [],
   "source": [
    "# Generate CDF plot for a specific station\n",
    "# station = historic_hourly.columns[1]\n",
    "# cdf_fig = idf_analysis.plot_cdf_models(station)\n",
    "# cdf_fig.savefig(f'cdf_plot_{station}.png', dpi=300, bbox_inches='tight')\n",
    "# plt.close(cdf_fig)\n",
    "\n",
    "# Create IDF table for a specific station\n",
    "station_idf = idf_analysis.get_idf_table(station)\n",
    "\n",
    "# Generate Q-Q plot for a specific station\n",
    "# qq_fig = idf_analysis.plot_qq_models(station)\n",
    "# qq_fig.savefig(f'qq_plot_{station}.png', dpi=300, bbox_inches='tight')\n",
    "# plt.close(qq_fig)\n",
    "\n",
    "# Fit and plot IDF fit curves for a specific station\n",
    "synth_IDF, idf_fig = idf_analysis.Fit_IDF(station, plot=True)\n",
    "# idf_fig.savefig(f'idf_curves_{station}.png', dpi=300, bbox_inches='tight')\n",
    "# plt.close(idf_fig)"
   ]
  }
 ],
 "metadata": {
  "kernelspec": {
   "display_name": "rcop2",
   "language": "python",
   "name": "python3"
  },
  "language_info": {
   "codemirror_mode": {
    "name": "ipython",
    "version": 3
   },
   "file_extension": ".py",
   "mimetype": "text/x-python",
   "name": "python",
   "nbconvert_exporter": "python",
   "pygments_lexer": "ipython3",
   "version": "3.12.3"
  }
 },
 "nbformat": 4,
 "nbformat_minor": 2
}
